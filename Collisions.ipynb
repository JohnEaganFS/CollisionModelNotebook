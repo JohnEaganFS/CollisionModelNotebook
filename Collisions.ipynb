{
 "cells": [
  {
   "cell_type": "code",
   "execution_count": 47,
   "id": "coral-architecture",
   "metadata": {},
   "outputs": [],
   "source": [
    "import numpy as np\n",
    "import pandas as pd\n",
    "\n",
    "np.random.seed(42)\n",
    "\n",
    "def load_collision_data():\n",
    "    return pd.read_csv('C:/Users/john/Desktop/Datasets/collisionsclean.csv', header = 0)\n",
    "\n",
    "collisions = load_collision_data()"
   ]
  },
  {
   "cell_type": "code",
   "execution_count": 48,
   "id": "balanced-establishment",
   "metadata": {},
   "outputs": [
    {
     "name": "stdout",
     "output_type": "stream",
     "text": [
      "<class 'pandas.core.frame.DataFrame'>\n",
      "RangeIndex: 1491414 entries, 0 to 1491413\n",
      "Data columns (total 12 columns):\n",
      " #   Column                 Non-Null Count    Dtype \n",
      "---  ------                 --------------    ----- \n",
      " 0   CRASH_TIME             1491414 non-null  object\n",
      " 1   VEHICLE_OCCUPANTS      1491414 non-null  int64 \n",
      " 2   DRIVER_SEX             1491414 non-null  object\n",
      " 3   DRIVER_LICENSE_STATUS  1491414 non-null  object\n",
      " 4   PRE_CRASH              1491414 non-null  object\n",
      " 5   POINT_OF_IMPACT        1491401 non-null  object\n",
      " 6   VEHICLE_DAMAGE         1491414 non-null  object\n",
      " 7   VEHICLE_DAMAGE_1       1491414 non-null  object\n",
      " 8   VEHICLE_DAMAGE_2       1491414 non-null  object\n",
      " 9   VEHICLE_DAMAGE_3       1491414 non-null  object\n",
      " 10  CONTRIBUTING_FACTOR_1  1491414 non-null  object\n",
      " 11  CONTRIBUTING_FACTOR_2  1491414 non-null  object\n",
      "dtypes: int64(1), object(11)\n",
      "memory usage: 136.5+ MB\n"
     ]
    },
    {
     "data": {
      "text/html": [
       "<div>\n",
       "<style scoped>\n",
       "    .dataframe tbody tr th:only-of-type {\n",
       "        vertical-align: middle;\n",
       "    }\n",
       "\n",
       "    .dataframe tbody tr th {\n",
       "        vertical-align: top;\n",
       "    }\n",
       "\n",
       "    .dataframe thead th {\n",
       "        text-align: right;\n",
       "    }\n",
       "</style>\n",
       "<table border=\"1\" class=\"dataframe\">\n",
       "  <thead>\n",
       "    <tr style=\"text-align: right;\">\n",
       "      <th></th>\n",
       "      <th>VEHICLE_OCCUPANTS</th>\n",
       "    </tr>\n",
       "  </thead>\n",
       "  <tbody>\n",
       "    <tr>\n",
       "      <th>count</th>\n",
       "      <td>1.491414e+06</td>\n",
       "    </tr>\n",
       "    <tr>\n",
       "      <th>mean</th>\n",
       "      <td>1.343180e+00</td>\n",
       "    </tr>\n",
       "    <tr>\n",
       "      <th>std</th>\n",
       "      <td>1.216860e+00</td>\n",
       "    </tr>\n",
       "    <tr>\n",
       "      <th>min</th>\n",
       "      <td>0.000000e+00</td>\n",
       "    </tr>\n",
       "    <tr>\n",
       "      <th>25%</th>\n",
       "      <td>1.000000e+00</td>\n",
       "    </tr>\n",
       "    <tr>\n",
       "      <th>50%</th>\n",
       "      <td>1.000000e+00</td>\n",
       "    </tr>\n",
       "    <tr>\n",
       "      <th>75%</th>\n",
       "      <td>1.000000e+00</td>\n",
       "    </tr>\n",
       "    <tr>\n",
       "      <th>max</th>\n",
       "      <td>1.000000e+02</td>\n",
       "    </tr>\n",
       "  </tbody>\n",
       "</table>\n",
       "</div>"
      ],
      "text/plain": [
       "       VEHICLE_OCCUPANTS\n",
       "count       1.491414e+06\n",
       "mean        1.343180e+00\n",
       "std         1.216860e+00\n",
       "min         0.000000e+00\n",
       "25%         1.000000e+00\n",
       "50%         1.000000e+00\n",
       "75%         1.000000e+00\n",
       "max         1.000000e+02"
      ]
     },
     "execution_count": 48,
     "metadata": {},
     "output_type": "execute_result"
    }
   ],
   "source": [
    "collisions.info()\n",
    "collisions.describe()"
   ]
  },
  {
   "cell_type": "code",
   "execution_count": 49,
   "id": "overall-button",
   "metadata": {},
   "outputs": [],
   "source": [
    "def split_train_test(data, test_ratio):\n",
    "    shuffled_indices = np.random.permutation(len(data))\n",
    "    test_set_size = int(len(data) * test_ratio)\n",
    "    test_indices = shuffled_indices[:test_set_size]\n",
    "    train_indices = shuffled_indices[test_set_size:]\n",
    "    return data.iloc[train_indices], data.iloc[test_indices]\n",
    "\n",
    "train_set, test_set = split_train_test(collisions, 0.2)"
   ]
  },
  {
   "cell_type": "code",
   "execution_count": 50,
   "id": "interior-request",
   "metadata": {},
   "outputs": [],
   "source": [
    "X_train, y_train = train_set.drop(\"PRE_CRASH\", axis = 1), train_set[\"PRE_CRASH\"].copy()\n",
    "X_test, y_test = test_set.drop(\"PRE_CRASH\", axis = 1), test_set[\"PRE_CRASH\"].copy()"
   ]
  },
  {
   "cell_type": "code",
   "execution_count": 51,
   "id": "dental-madrid",
   "metadata": {},
   "outputs": [
    {
     "data": {
      "text/plain": [
       "'Passing'"
      ]
     },
     "execution_count": 51,
     "metadata": {},
     "output_type": "execute_result"
    }
   ],
   "source": [
    "some_data = train_set.iloc[0]\n",
    "some_data_label = some_data[\"PRE_CRASH\"]\n",
    "some_data_label"
   ]
  },
  {
   "cell_type": "code",
   "execution_count": 52,
   "id": "confirmed-tackle",
   "metadata": {},
   "outputs": [],
   "source": [
    "y_train_parked = (y_train == \"Parked\")\n",
    "y_test_parked = (y_test == \"Parked\")"
   ]
  },
  {
   "cell_type": "code",
   "execution_count": 53,
   "id": "early-failing",
   "metadata": {},
   "outputs": [],
   "source": [
    "from sklearn.pipeline import Pipeline\n",
    "from sklearn.preprocessing import OneHotEncoder\n",
    "from sklearn.compose import ColumnTransformer\n",
    "\n",
    "num_attribs = [\"VEHICLE_OCCUPANTS\"]\n",
    "cat_attribs = [\"CRASH_TIME\",\"DRIVER_SEX\",\"DRIVER_LICENSE_STATUS\",\"POINT_OF_IMPACT\",\"VEHICLE_DAMAGE\",\n",
    "               \"VEHICLE_DAMAGE_1\",\"VEHICLE_DAMAGE_2\",\"VEHICLE_DAMAGE_3\",\"CONTRIBUTING_FACTOR_1\",\"CONTRIBUTING_FACTOR_2\"]\n",
    "full_pipeline = ColumnTransformer([\n",
    "    (\"cat\", OneHotEncoder(), cat_attribs)\n",
    "])\n",
    "\n",
    "X_train = full_pipeline.fit_transform(X_train)\n",
    "X_test = full_pipeline.fit_transform(X_test)"
   ]
  },
  {
   "cell_type": "code",
   "execution_count": 54,
   "id": "mounted-monday",
   "metadata": {},
   "outputs": [
    {
     "data": {
      "text/plain": [
       "SGDClassifier(random_state=42)"
      ]
     },
     "execution_count": 54,
     "metadata": {},
     "output_type": "execute_result"
    }
   ],
   "source": [
    "from sklearn.linear_model import SGDClassifier\n",
    "sgd_clf = SGDClassifier(random_state=42)\n",
    "sgd_clf.fit(X_train, y_train_parked)"
   ]
  },
  {
   "cell_type": "code",
   "execution_count": 55,
   "id": "indoor-edwards",
   "metadata": {},
   "outputs": [
    {
     "data": {
      "text/plain": [
       "array([0.93109067, 0.93108815, 0.93109049])"
      ]
     },
     "execution_count": 55,
     "metadata": {},
     "output_type": "execute_result"
    }
   ],
   "source": [
    "from sklearn.model_selection import cross_val_score\n",
    "cross_val_score(sgd_clf, X_train, y_train_parked, cv=3, scoring=\"accuracy\")"
   ]
  },
  {
   "cell_type": "code",
   "execution_count": 56,
   "id": "hazardous-cigarette",
   "metadata": {},
   "outputs": [
    {
     "data": {
      "text/plain": [
       "array([[1110913,       0],\n",
       "       [  82219,       0]], dtype=int64)"
      ]
     },
     "execution_count": 56,
     "metadata": {},
     "output_type": "execute_result"
    }
   ],
   "source": [
    "from sklearn.model_selection import cross_val_predict\n",
    "y_train_pred = cross_val_predict(sgd_clf, X_train, y_train_parked, cv=3)\n",
    "\n",
    "from sklearn.metrics import confusion_matrix\n",
    "confusion_matrix(y_train_parked, y_train_pred)"
   ]
  },
  {
   "cell_type": "code",
   "execution_count": 57,
   "id": "frozen-television",
   "metadata": {},
   "outputs": [
    {
     "name": "stderr",
     "output_type": "stream",
     "text": [
      "c:\\users\\john\\appdata\\local\\programs\\python\\python39\\lib\\site-packages\\sklearn\\metrics\\_classification.py:1245: UndefinedMetricWarning: Precision is ill-defined and being set to 0.0 due to no predicted samples. Use `zero_division` parameter to control this behavior.\n",
      "  _warn_prf(average, modifier, msg_start, len(result))\n"
     ]
    },
    {
     "data": {
      "text/plain": [
       "0.0"
      ]
     },
     "execution_count": 57,
     "metadata": {},
     "output_type": "execute_result"
    }
   ],
   "source": [
    "from sklearn.metrics import precision_score, recall_score\n",
    "precision_score(y_train_parked, y_train_pred)\n",
    "recall_score(y_train_parked, y_train_pred)"
   ]
  },
  {
   "cell_type": "code",
   "execution_count": 58,
   "id": "welcome-trustee",
   "metadata": {},
   "outputs": [
    {
     "data": {
      "text/plain": [
       "(1193132, 1652)"
      ]
     },
     "execution_count": 58,
     "metadata": {},
     "output_type": "execute_result"
    }
   ],
   "source": [
    "X_train.shape"
   ]
  },
  {
   "cell_type": "code",
   "execution_count": 59,
   "id": "selected-adaptation",
   "metadata": {},
   "outputs": [
    {
     "data": {
      "text/plain": [
       "array([0.56504849, 0.55030914, 0.53696412])"
      ]
     },
     "execution_count": 59,
     "metadata": {},
     "output_type": "execute_result"
    }
   ],
   "source": [
    "import time\n",
    "start = time.time()\n",
    "sgd_clf.fit(X_train, y_train)\n",
    "score = cross_val_score(sgd_clf, X_train, y_train, cv=3, scoring=\"accuracy\")\n",
    "elapsed = time.time() - start\n",
    "score"
   ]
  },
  {
   "cell_type": "code",
   "execution_count": 60,
   "id": "abroad-governor",
   "metadata": {},
   "outputs": [
    {
     "data": {
      "text/plain": [
       "84.132497549057"
      ]
     },
     "execution_count": 60,
     "metadata": {},
     "output_type": "execute_result"
    }
   ],
   "source": [
    "elapsed"
   ]
  },
  {
   "cell_type": "code",
   "execution_count": 61,
   "id": "educational-lewis",
   "metadata": {},
   "outputs": [
    {
     "data": {
      "text/plain": [
       "0.5507739294562546"
      ]
     },
     "execution_count": 61,
     "metadata": {},
     "output_type": "execute_result"
    }
   ],
   "source": [
    "y_train_pred = cross_val_predict(sgd_clf, X_train, y_train, cv=3)\n",
    "precision_score(y_train, y_train_pred, average='micro')"
   ]
  },
  {
   "cell_type": "code",
   "execution_count": 62,
   "id": "introductory-cleaning",
   "metadata": {},
   "outputs": [
    {
     "data": {
      "text/plain": [
       "0.5507739294562546"
      ]
     },
     "execution_count": 62,
     "metadata": {},
     "output_type": "execute_result"
    }
   ],
   "source": [
    "recall_score(y_train, y_train_pred, average='micro')"
   ]
  },
  {
   "cell_type": "code",
   "execution_count": 63,
   "id": "numerous-company",
   "metadata": {},
   "outputs": [
    {
     "data": {
      "text/plain": [
       "<function matplotlib.pyplot.show(close=None, block=None)>"
      ]
     },
     "execution_count": 63,
     "metadata": {},
     "output_type": "execute_result"
    },
    {
     "data": {
      "image/png": "[encoded data removed]",
      "text/plain": [
       "<Figure size 288x288 with 1 Axes>"
      ]
     },
     "metadata": {
      "needs_background": "light"
     },
     "output_type": "display_data"
    }
   ],
   "source": [
    "import matplotlib.pyplot as plt\n",
    "conf_mx = confusion_matrix(y_train, y_train_pred)\n",
    "plt.matshow(conf_mx, cmap=plt.cm.gray)\n",
    "plt.show"
   ]
  },
  {
   "cell_type": "code",
   "execution_count": 64,
   "id": "fundamental-malaysia",
   "metadata": {},
   "outputs": [
    {
     "data": {
      "image/png": "[encoded data removed]",
      "text/plain": [
       "<Figure size 288x288 with 1 Axes>"
      ]
     },
     "metadata": {
      "needs_background": "light"
     },
     "output_type": "display_data"
    }
   ],
   "source": [
    "row_sums = conf_mx.sum(axis=1, keepdims = True)\n",
    "norm_conf_mx = conf_mx / row_sums\n",
    "np.fill_diagonal(norm_conf_mx, 0)\n",
    "plt.matshow(norm_conf_mx, cmap=plt.cm.gray)\n",
    "plt.show()"
   ]
  },
  {
   "cell_type": "code",
   "execution_count": 65,
   "id": "hungry-philosophy",
   "metadata": {},
   "outputs": [
    {
     "data": {
      "text/plain": [
       "array([[0., 0., 0., ..., 0., 0., 0.]])"
      ]
     },
     "execution_count": 65,
     "metadata": {},
     "output_type": "execute_result"
    }
   ],
   "source": [
    "some_data = X_train[0].toarray()\n",
    "some_data"
   ]
  },
  {
   "cell_type": "code",
   "execution_count": 66,
   "id": "returning-drain",
   "metadata": {},
   "outputs": [
    {
     "data": {
      "text/plain": [
       "array([[-1.01303903, -1.03113711, -1.01835186, -1.00751072,  1.01020418,\n",
       "        -1.01047631, -1.00969124, -1.01107885, -1.02185526, -1.02435552,\n",
       "        -1.00077858, -1.01288804, -1.01815922, -1.009468  , -1.01450166,\n",
       "        -1.01091175, -1.01480666, -1.01106087, -0.99915284]])"
      ]
     },
     "execution_count": 66,
     "metadata": {},
     "output_type": "execute_result"
    }
   ],
   "source": [
    "some_scores = sgd_clf.decision_function(some_data)\n",
    "some_scores"
   ]
  },
  {
   "cell_type": "code",
   "execution_count": 67,
   "id": "appointed-consultation",
   "metadata": {},
   "outputs": [
    {
     "data": {
      "text/plain": [
       "4"
      ]
     },
     "execution_count": 67,
     "metadata": {},
     "output_type": "execute_result"
    }
   ],
   "source": [
    "np.argmax(some_scores)"
   ]
  },
  {
   "cell_type": "code",
   "execution_count": 68,
   "id": "unexpected-ecuador",
   "metadata": {},
   "outputs": [
    {
     "data": {
      "text/plain": [
       "'Going Straight Ahead'"
      ]
     },
     "execution_count": 68,
     "metadata": {},
     "output_type": "execute_result"
    }
   ],
   "source": [
    "sgd_clf.classes_[np.argmax(some_scores)]"
   ]
  },
  {
   "cell_type": "code",
   "execution_count": 69,
   "id": "specific-tobacco",
   "metadata": {},
   "outputs": [
    {
     "data": {
      "text/plain": [
       "'Passing'"
      ]
     },
     "execution_count": 69,
     "metadata": {},
     "output_type": "execute_result"
    }
   ],
   "source": [
    "some_data_label"
   ]
  },
  {
   "cell_type": "code",
   "execution_count": 77,
   "id": "hungry-dancing",
   "metadata": {},
   "outputs": [
    {
     "data": {
      "text/plain": [
       "array([0.56487106, 0.5625836 , 0.57841431])"
      ]
     },
     "execution_count": 77,
     "metadata": {},
     "output_type": "execute_result"
    }
   ],
   "source": [
    "test_score = cross_val_score(sgd_clf, X_test, y_test, cv=3, scoring=\"accuracy\")\n",
    "test_score"
   ]
  },
  {
   "cell_type": "code",
   "execution_count": 87,
   "id": "special-assembly",
   "metadata": {},
   "outputs": [
    {
     "data": {
      "text/plain": [
       "array(['Going Straight Ahead'], dtype='<U26')"
      ]
     },
     "execution_count": 87,
     "metadata": {},
     "output_type": "execute_result"
    }
   ],
   "source": [
    "sgd_clf.predict(some_data)"
   ]
  },
  {
   "cell_type": "code",
   "execution_count": 88,
   "id": "forty-premiere",
   "metadata": {},
   "outputs": [],
   "source": [
    "from sklearn.base import BaseEstimator\n",
    "class alwaysGoing(BaseEstimator):\n",
    "    def fit(self, X, y=None):\n",
    "        return self\n",
    "    def predict(self, X):\n",
    "        return sgd_clf.predict(some_data)"
   ]
  },
  {
   "cell_type": "code",
   "execution_count": 89,
   "id": "italic-longitude",
   "metadata": {},
   "outputs": [
    {
     "name": "stderr",
     "output_type": "stream",
     "text": [
      "c:\\users\\john\\appdata\\local\\programs\\python\\python39\\lib\\site-packages\\sklearn\\model_selection\\_validation.py:683: UserWarning: Scoring failed. The score on this train-test partition for these parameters will be set to nan. Details: \n",
      "Traceback (most recent call last):\n",
      "  File \"c:\\users\\john\\appdata\\local\\programs\\python\\python39\\lib\\site-packages\\sklearn\\model_selection\\_validation.py\", line 674, in _score\n",
      "    scores = scorer(estimator, X_test, y_test)\n",
      "  File \"c:\\users\\john\\appdata\\local\\programs\\python\\python39\\lib\\site-packages\\sklearn\\metrics\\_scorer.py\", line 87, in __call__\n",
      "    score = scorer._score(cached_call, estimator,\n",
      "  File \"c:\\users\\john\\appdata\\local\\programs\\python\\python39\\lib\\site-packages\\sklearn\\metrics\\_scorer.py\", line 242, in _score\n",
      "    return self._sign * self._score_func(y_true, y_pred,\n",
      "  File \"c:\\users\\john\\appdata\\local\\programs\\python\\python39\\lib\\site-packages\\sklearn\\utils\\validation.py\", line 63, in inner_f\n",
      "    return f(*args, **kwargs)\n",
      "  File \"c:\\users\\john\\appdata\\local\\programs\\python\\python39\\lib\\site-packages\\sklearn\\metrics\\_classification.py\", line 202, in accuracy_score\n",
      "    y_type, y_true, y_pred = _check_targets(y_true, y_pred)\n",
      "  File \"c:\\users\\john\\appdata\\local\\programs\\python\\python39\\lib\\site-packages\\sklearn\\metrics\\_classification.py\", line 83, in _check_targets\n",
      "    check_consistent_length(y_true, y_pred)\n",
      "  File \"c:\\users\\john\\appdata\\local\\programs\\python\\python39\\lib\\site-packages\\sklearn\\utils\\validation.py\", line 262, in check_consistent_length\n",
      "    raise ValueError(\"Found input variables with inconsistent numbers of\"\n",
      "ValueError: Found input variables with inconsistent numbers of samples: [99428, 1]\n",
      "\n",
      "  warnings.warn(\n",
      "c:\\users\\john\\appdata\\local\\programs\\python\\python39\\lib\\site-packages\\sklearn\\model_selection\\_validation.py:683: UserWarning: Scoring failed. The score on this train-test partition for these parameters will be set to nan. Details: \n",
      "Traceback (most recent call last):\n",
      "  File \"c:\\users\\john\\appdata\\local\\programs\\python\\python39\\lib\\site-packages\\sklearn\\model_selection\\_validation.py\", line 674, in _score\n",
      "    scores = scorer(estimator, X_test, y_test)\n",
      "  File \"c:\\users\\john\\appdata\\local\\programs\\python\\python39\\lib\\site-packages\\sklearn\\metrics\\_scorer.py\", line 87, in __call__\n",
      "    score = scorer._score(cached_call, estimator,\n",
      "  File \"c:\\users\\john\\appdata\\local\\programs\\python\\python39\\lib\\site-packages\\sklearn\\metrics\\_scorer.py\", line 242, in _score\n",
      "    return self._sign * self._score_func(y_true, y_pred,\n",
      "  File \"c:\\users\\john\\appdata\\local\\programs\\python\\python39\\lib\\site-packages\\sklearn\\utils\\validation.py\", line 63, in inner_f\n",
      "    return f(*args, **kwargs)\n",
      "  File \"c:\\users\\john\\appdata\\local\\programs\\python\\python39\\lib\\site-packages\\sklearn\\metrics\\_classification.py\", line 202, in accuracy_score\n",
      "    y_type, y_true, y_pred = _check_targets(y_true, y_pred)\n",
      "  File \"c:\\users\\john\\appdata\\local\\programs\\python\\python39\\lib\\site-packages\\sklearn\\metrics\\_classification.py\", line 83, in _check_targets\n",
      "    check_consistent_length(y_true, y_pred)\n",
      "  File \"c:\\users\\john\\appdata\\local\\programs\\python\\python39\\lib\\site-packages\\sklearn\\utils\\validation.py\", line 262, in check_consistent_length\n",
      "    raise ValueError(\"Found input variables with inconsistent numbers of\"\n",
      "ValueError: Found input variables with inconsistent numbers of samples: [99427, 1]\n",
      "\n",
      "  warnings.warn(\n",
      "c:\\users\\john\\appdata\\local\\programs\\python\\python39\\lib\\site-packages\\sklearn\\model_selection\\_validation.py:683: UserWarning: Scoring failed. The score on this train-test partition for these parameters will be set to nan. Details: \n",
      "Traceback (most recent call last):\n",
      "  File \"c:\\users\\john\\appdata\\local\\programs\\python\\python39\\lib\\site-packages\\sklearn\\model_selection\\_validation.py\", line 674, in _score\n",
      "    scores = scorer(estimator, X_test, y_test)\n",
      "  File \"c:\\users\\john\\appdata\\local\\programs\\python\\python39\\lib\\site-packages\\sklearn\\metrics\\_scorer.py\", line 87, in __call__\n",
      "    score = scorer._score(cached_call, estimator,\n",
      "  File \"c:\\users\\john\\appdata\\local\\programs\\python\\python39\\lib\\site-packages\\sklearn\\metrics\\_scorer.py\", line 242, in _score\n",
      "    return self._sign * self._score_func(y_true, y_pred,\n",
      "  File \"c:\\users\\john\\appdata\\local\\programs\\python\\python39\\lib\\site-packages\\sklearn\\utils\\validation.py\", line 63, in inner_f\n",
      "    return f(*args, **kwargs)\n",
      "  File \"c:\\users\\john\\appdata\\local\\programs\\python\\python39\\lib\\site-packages\\sklearn\\metrics\\_classification.py\", line 202, in accuracy_score\n",
      "    y_type, y_true, y_pred = _check_targets(y_true, y_pred)\n",
      "  File \"c:\\users\\john\\appdata\\local\\programs\\python\\python39\\lib\\site-packages\\sklearn\\metrics\\_classification.py\", line 83, in _check_targets\n",
      "    check_consistent_length(y_true, y_pred)\n",
      "  File \"c:\\users\\john\\appdata\\local\\programs\\python\\python39\\lib\\site-packages\\sklearn\\utils\\validation.py\", line 262, in check_consistent_length\n",
      "    raise ValueError(\"Found input variables with inconsistent numbers of\"\n",
      "ValueError: Found input variables with inconsistent numbers of samples: [99427, 1]\n",
      "\n",
      "  warnings.warn(\n"
     ]
    },
    {
     "data": {
      "text/plain": [
       "array([nan, nan, nan])"
      ]
     },
     "execution_count": 89,
     "metadata": {},
     "output_type": "execute_result"
    }
   ],
   "source": [
    "alwaysGoing_clf = alwaysGoing()\n",
    "cross_val_score(alwaysGoing_clf, X_test, y_test, cv=3, scoring=\"accuracy\")"
   ]
  },
  {
   "cell_type": "code",
   "execution_count": 71,
   "id": "latest-census",
   "metadata": {},
   "outputs": [],
   "source": [
    "#from sklearn.svm import SVC\n",
    "#svm_clf = SVC()\n",
    "#svm_clf.fit(X_train, y_train)"
   ]
  },
  {
   "cell_type": "code",
   "execution_count": 72,
   "id": "boolean-romance",
   "metadata": {},
   "outputs": [],
   "source": [
    "#some_data = X_train[0].toarray()\n",
    "#some_data"
   ]
  },
  {
   "cell_type": "code",
   "execution_count": 73,
   "id": "living-operation",
   "metadata": {},
   "outputs": [],
   "source": [
    "#some_scores = svm_clf.decision_function(some_data)\n",
    "#some_scores"
   ]
  },
  {
   "cell_type": "code",
   "execution_count": 74,
   "id": "trained-taste",
   "metadata": {},
   "outputs": [],
   "source": [
    "#np.argmax(some_scores)"
   ]
  },
  {
   "cell_type": "code",
   "execution_count": 75,
   "id": "leading-chemical",
   "metadata": {},
   "outputs": [],
   "source": [
    "#svm_clf.classes_[np.argmax(some_scores)]"
   ]
  },
  {
   "cell_type": "code",
   "execution_count": 76,
   "id": "choice-scout",
   "metadata": {},
   "outputs": [],
   "source": [
    "#some_data_label"
   ]
  }
 ],
 "metadata": {
  "kernelspec": {
   "display_name": "Python 3",
   "language": "python",
   "name": "python3"
  },
  "language_info": {
   "codemirror_mode": {
    "name": "ipython",
    "version": 3
   },
   "file_extension": ".py",
   "mimetype": "text/x-python",
   "name": "python",
   "nbconvert_exporter": "python",
   "pygments_lexer": "ipython3",
   "version": "3.9.1"
  }
 },
 "nbformat": 4,
 "nbformat_minor": 5
}
